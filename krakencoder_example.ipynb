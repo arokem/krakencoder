{
  "nbformat": 4,
  "nbformat_minor": 0,
  "metadata": {
    "colab": {
      "provenance": [],
      "authorship_tag": "ABX9TyNcB4JOKm6E7ZNHIIpqlEuJ",
      "include_colab_link": true
    },
    "kernelspec": {
      "name": "python3",
      "display_name": "Python 3"
    },
    "language_info": {
      "name": "python"
    }
  },
  "cells": [
    {
      "cell_type": "markdown",
      "metadata": {
        "id": "view-in-github",
        "colab_type": "text"
      },
      "source": [
        "<a href=\"https://colab.research.google.com/github/kjamison/krakencoder/blob/main/krakencoder_example.ipynb\" target=\"_parent\"><img src=\"https://colab.research.google.com/assets/colab-badge.svg\" alt=\"Open In Colab\"/></a>"
      ]
    },
    {
      "cell_type": "markdown",
      "source": [
        "**Krakencoder usage example**\n",
        "\n",
        "This notebook provides an example of how to load connectome data and apply a pretrained Krakencoder model to that data.\n",
        "\n",
        "The process is as follows:\n",
        "1.   Load model\n",
        "2.   Load new data and do mild domain adaptation (map input data mean to training data mean)\n",
        "3.   Transform each input data flavor into 128-dimensional latent space\n",
        "4.   Average latent space across all types (\"fusion\")\n",
        "  * Note: this might be used for prediction, clustering, etc.\n",
        "5.   Transform \"fusion\" averaged latent vectors to output connectomes\n",
        "\n"
      ],
      "metadata": {
        "id": "Ordv4cRyTpbo"
      }
    },
    {
      "cell_type": "code",
      "source": [
        "#clone repo and add to path\n",
        "!git clone https://github.com/kjamison/krakencoder.git\n",
        "import sys\n",
        "if not '/content/krakencoder' in sys.path:\n",
        "  sys.path.append('/content/krakencoder')"
      ],
      "metadata": {
        "colab": {
          "base_uri": "https://localhost:8080/"
        },
        "id": "u9xmcxZRG1WQ",
        "outputId": "8ab60571-9262-471e-ea76-7b9ae973392d"
      },
      "execution_count": 1,
      "outputs": [
        {
          "output_type": "stream",
          "name": "stdout",
          "text": [
            "Cloning into 'krakencoder'...\n",
            "remote: Enumerating objects: 245, done.\u001b[K\n",
            "remote: Counting objects: 100% (245/245), done.\u001b[K\n",
            "remote: Compressing objects: 100% (164/164), done.\u001b[K\n",
            "remote: Total 245 (delta 155), reused 162 (delta 77), pack-reused 0\u001b[K\n",
            "Receiving objects: 100% (245/245), 7.76 MiB | 14.80 MiB/s, done.\n",
            "Resolving deltas: 100% (155/155), done.\n"
          ]
        }
      ]
    },
    {
      "cell_type": "code",
      "execution_count": 2,
      "metadata": {
        "colab": {
          "base_uri": "https://localhost:8080/"
        },
        "id": "hN1Hzs6SwBtU",
        "outputId": "f29946ac-16d3-437e-c00d-e4ed31d21696"
      },
      "outputs": [
        {
          "output_type": "stream",
          "name": "stdout",
          "text": [
            "\r          kraken_ch   0%[                    ]       0  --.-KB/s               \rkraken_chkpt_SCFC_f 100%[===================>]   3.88M  --.-KB/s    in 0.02s   \n",
            "2024-04-16 05:45:01 URL:https://storage.googleapis.com/cos-osf-prod-files-us/680f6e527f8fa8fe692128e28bb82b31936d6a572aee5dded6b57b4b62abefbe?response-content-disposition=attachment%3B%20filename%3D%22kraken_chkpt_SCFC_fs86%2Bshen268%2Bcoco439_pc256_225paths_latent128_20240413_ep002000.pt%22%3B%20filename%2A%3DUTF-8%27%27kraken_chkpt_SCFC_fs86%252Bshen268%252Bcoco439_pc256_225paths_latent128_20240413_ep002000.pt&GoogleAccessId=files-us%40cos-osf-prod.iam.gserviceaccount.com&Expires=1713246361&Signature=jMBYMkXwpwq%2BAm0AS1QdyGAYK%2FuSMBtw%2FtKQZKT29Mk8soxL%2FQyAF5c0Wq7p2JzGo1SHorTS%2BCg54prcSfhZ9DlnFWh1WqYOX70rzfUkyL0hPBiQVKcCXOZfo87gNgkbmXZT110%2B7R0ZX8uJ37YEY7gCHO0NHnIuTBrq2PoziqOlWtTE7LHbJjeKDcgVJK5BuBBgZuQAsN0G%2FyrzHNCfRuk1Qif0feYO4lHyfA3kSPH3HXkGWpIFZk3H8SGWlIYEEflpDYpUuNVWt%2FV9r9ufj975Pgt2NwyeRX8BU9rmR2prSMmc%2BTotvG5T7i2vAOdapcqBW39KclJIFzj64u5YJA%3D%3D [4068983/4068983] -> \"kraken_chkpt_SCFC_fs86+shen268+coco439_pc256_225paths_latent128_20240413_ep002000.pt\" [1]\n",
            "kraken_ioxfm_SCFC_f 100%[===================>]  35.86M  83.8MB/s    in 0.4s    \n",
            "2024-04-16 05:45:04 URL:https://storage.googleapis.com/cos-osf-prod-files-us/d8a2e1265539dba96ac0cb1c7405e37ac514f518322ffaeefc5f02c63ea755ca?response-content-disposition=attachment%3B%20filename%3D%22kraken_ioxfm_SCFC_fs86_pc256_710train.npy%22%3B%20filename%2A%3DUTF-8%27%27kraken_ioxfm_SCFC_fs86_pc256_710train.npy&GoogleAccessId=files-us%40cos-osf-prod.iam.gserviceaccount.com&Expires=1713246363&Signature=vr6MxwRpPH%2BXWFLC6GfETjGCv%2BQiv5gDn2abCBCg1zkzdEA954WKTNY9osYJaZtnE70Xo%2BurY9NLFBu0u1EmNethVPLXuuke5fvNoJoNO4cCGiaIwhxxrfYdB5tjTmkZqBQ8noh3xTOfpR1ryUps6ykG4%2B4fndAJXYEgjmajjcbframjJBSk3LMv0ax7l0irE%2BcKBwc8IHw3pGL7Ab9%2Br6sGq%2FEOMsBT3kwd9bRULDdAUq%2BbMUtRgIp437Vc1V7YaFWs1JKre4Ge4RauV6SL1J5vVB84M5xR3GJUE4ItVHln0zaWkf3YXwdZsRVbntF7q%2F9y%2B6F1GNZ%2BdQgl3gx2Bw%3D%3D [37603362/37603362] -> \"kraken_ioxfm_SCFC_fs86_pc256_710train.npy\" [1]\n",
            "kraken_ioxfm_SCFC_s 100%[===================>] 350.79M  79.8MB/s    in 4.6s    \n",
            "2024-04-16 05:45:09 URL:https://storage.googleapis.com/cos-osf-prod-files-us/f89a527199763a198c4be33a51b913258b4f5538e39b62eeba4700c890d2915e?response-content-disposition=attachment%3B%20filename%3D%22kraken_ioxfm_SCFC_shen268_pc256_710train.npy%22%3B%20filename%2A%3DUTF-8%27%27kraken_ioxfm_SCFC_shen268_pc256_710train.npy&GoogleAccessId=files-us%40cos-osf-prod.iam.gserviceaccount.com&Expires=1713246364&Signature=v7XquHGIQBBMxf2Ei0Mfg54K3t5xxhyZ7Ek8U9u2%2FS2ji0iqt7J7%2BJ26fq5rikl9k6%2BMZ67pT6acpBENZ%2BsH1BdC6lF7ThiX7YTUnc3%2BfHhDBYHpE9a0ezN7sjX%2BSS5l8YnnF6fFL0U%2B2qDafHtSA4crfaUVr6AtPIlKIlOM47Duy8OOViTZEsFeBsgTCjdOL0Cew4tckfSrjyZ9%2BfV2RGNaK9ZjZBqNlvIoSFAnLCQo7uaiBblR1673zDL4ImuWgu7kljXr0jMk0k4WIb%2FHvtulUKNMOy3bOVdJffJrie9H5lSpgmw%2BOmVMYfG1MhlPndSF5gD0hOM0WUoELQvnuA%3D%3D [367827817/367827817] -> \"kraken_ioxfm_SCFC_shen268_pc256_710train.npy\" [1]\n",
            "kraken_ioxfm_SCFC_c 100%[===================>] 942.57M  57.8MB/s    in 14s     \n",
            "2024-04-16 05:45:24 URL:https://storage.googleapis.com/cos-osf-prod-files-us/afbe4d329f00cd99c0f2af5b4fbb095454744717bd4eb7241132f421f2cbef47?response-content-disposition=attachment%3B%20filename%3D%22kraken_ioxfm_SCFC_coco439_pc256_710train.npy%22%3B%20filename%2A%3DUTF-8%27%27kraken_ioxfm_SCFC_coco439_pc256_710train.npy&GoogleAccessId=files-us%40cos-osf-prod.iam.gserviceaccount.com&Expires=1713246370&Signature=gxQHLDFY9usD5Y1jH8GVeEBoSxaRZ6fyf23ot%2F%2BJ7RFtlevBBzfpkr7PsYzsfg7fd4Y242g6HJE7T5RDlkwpe139C67cQBzvVy8ekXFSQF1IehKiLPpc%2BEmY%2FH2bKNbx%2B3ik30YStlm4O5ALMyEjtqaQi%2B%2B%2Bg8ojEnGWctLMCmRGdeLQ%2BbM7KTiBRhDpumtrGLU79oxMngH79%2Br8F5S8DKAhupUyUMy%2BY85JVzLPhJO68vLOiavYX%2BBaMHBlC52hZB1gtaoEGCcySZd5GA5fnuMpPjEJ%2BJ9CrVbVQLEuk3mHH2HeuZZVJJTQRB9px7j1El0LivR8aSQJLzqCiqSflw%3D%3D [988359477/988359477] -> \"kraken_ioxfm_SCFC_coco439_pc256_710train.npy\" [1]\n"
          ]
        }
      ],
      "source": [
        "# download checkpoint and PCA transformations from OSF.io. See https://osf.io/dfp92/\n",
        "!wget -nv --show-progress -O kraken_chkpt_SCFC_fs86+shen268+coco439_pc256_225paths_latent128_20240413_ep002000.pt https://osf.io/download/x2dq5/\n",
        "\n",
        "# (these can be large. coco439 is ~1GB)\n",
        "!wget -nc -nv --show-progress -O kraken_ioxfm_SCFC_fs86_pc256_710train.npy https://osf.io/download/8jxkm/\n",
        "!wget -nc -nv --show-progress -O kraken_ioxfm_SCFC_shen268_pc256_710train.npy https://osf.io/download/z2qpt/\n",
        "!wget -nc -nv --show-progress -O kraken_ioxfm_SCFC_coco439_pc256_710train.npy https://osf.io/download/tu2mr/"
      ]
    },
    {
      "cell_type": "code",
      "source": [
        "import torch\n",
        "import numpy as np\n",
        "from krakencoder.model import Krakencoder\n",
        "from krakencoder.adaptermodel import KrakenAdapter\n",
        "from krakencoder.utils import square2tri, numpyvar\n",
        "from krakencoder.data import generate_adapt_transformer, load_transformers_from_file\n",
        "from scipy.io import loadmat, savemat\n",
        "import os\n",
        "import humanize"
      ],
      "metadata": {
        "id": "OQv3DFzCDVUP"
      },
      "execution_count": 3,
      "outputs": []
    },
    {
      "cell_type": "code",
      "source": [
        "# load model checkpoint and precomputed PCA transforms\n",
        "checkpoint_file='kraken_chkpt_SCFC_fs86+shen268+coco439_pc256_225paths_latent128_20240413_ep002000.pt'\n",
        "\n",
        "ioxfm_file_list=['kraken_ioxfm_SCFC_fs86_pc256_710train.npy',\n",
        "                 'kraken_ioxfm_SCFC_shen268_pc256_710train.npy',\n",
        "                 'kraken_ioxfm_SCFC_coco439_pc256_710train.npy']\n",
        "\n",
        "inner_net, checkpoint_info = Krakencoder.load_checkpoint(checkpoint_file, eval_mode=True)\n",
        "transformer_list, transformer_info_list = load_transformers_from_file(ioxfm_file_list)\n",
        "\n",
        "#create new model that wraps the inner kraken model and includes PCA transforms from raw data\n",
        "net=KrakenAdapter(inner_model=inner_net,\n",
        "                  data_transformer_list=[transformer_list[conntype] for conntype in checkpoint_info['input_name_list']],\n",
        "                  linear_polynomial_order=0,\n",
        "                  eval_mode=True)"
      ],
      "metadata": {
        "colab": {
          "base_uri": "https://localhost:8080/"
        },
        "id": "YntFPS-vGLKS",
        "outputId": "087e6949-3aac-4f84-d871-8de73816176b"
      },
      "execution_count": 4,
      "outputs": [
        {
          "output_type": "stream",
          "name": "stdout",
          "text": [
            "Loading precomputed input transformations: kraken_ioxfm_SCFC_fs86_pc256_710train.npy\n",
            "Loading precomputed input transformations: kraken_ioxfm_SCFC_shen268_pc256_710train.npy\n",
            "Loading precomputed input transformations: kraken_ioxfm_SCFC_coco439_pc256_710train.npy\n"
          ]
        }
      ]
    },
    {
      "cell_type": "code",
      "source": [
        "#load example data (10 validation subjects from HCP-YA)\n",
        "conndata_squaremats=loadmat('krakencoder/data/exampledata_10subj_fs86_inputs.mat',simplify_cells=True)\n",
        "\n",
        "#skip internal header keys\n",
        "conntypes=[c for c in conndata_squaremats.keys() if not c.startswith(\"_\")]\n",
        "\n",
        "#input data are lists of [roi x roi] square matrices so convert those to [subj x edges]\n",
        "conndata={}\n",
        "for c in conntypes:\n",
        "  conndata[c]={'data': np.stack([square2tri(x) for x in conndata_squaremats[c]['data']])}\n",
        "  print(\"conndata_squaremats['%s']['data']\" % (c),conndata_squaremats[c]['data'].shape, conndata_squaremats[c]['data'][0].shape)\n",
        "  print(\" -> conndata['%s']['data']\" % (c),conndata[c]['data'].shape)\n",
        "del conndata_squaremats"
      ],
      "metadata": {
        "colab": {
          "base_uri": "https://localhost:8080/"
        },
        "id": "hzzwlkEjI-Wa",
        "outputId": "159a490b-1989-4497-9838-4976cb36b0c0"
      },
      "execution_count": 5,
      "outputs": [
        {
          "output_type": "stream",
          "name": "stdout",
          "text": [
            "conndata_squaremats['SCifod2act_fs86_volnorm']['data'] (10,) (86, 86)\n",
            " -> conndata['SCifod2act_fs86_volnorm']['data'] (10, 3655)\n",
            "conndata_squaremats['SCsdstream_fs86_volnorm']['data'] (10,) (86, 86)\n",
            " -> conndata['SCsdstream_fs86_volnorm']['data'] (10, 3655)\n",
            "conndata_squaremats['FCcorr_fs86_hpf']['data'] (10,) (86, 86)\n",
            " -> conndata['FCcorr_fs86_hpf']['data'] (10, 3655)\n",
            "conndata_squaremats['FCcorr_fs86_hpfgsr']['data'] (10,) (86, 86)\n",
            " -> conndata['FCcorr_fs86_hpfgsr']['data'] (10, 3655)\n",
            "conndata_squaremats['FCpcorr_fs86_hpf']['data'] (10,) (86, 86)\n",
            " -> conndata['FCpcorr_fs86_hpf']['data'] (10, 3655)\n"
          ]
        }
      ]
    },
    {
      "cell_type": "code",
      "source": [
        "# compute SIMPLE domain adaptation transform: map mean(input subjects) to mean(training subjects) for each flavor\n",
        "# and transform each input data flavor to match training data mean\n",
        "#\n",
        "# It's not really needed for these data since they are from HCP-YA already, which the model was trained on.\n",
        "# That is why the model fits are all roughly \"y = 1.0*x + 0\". It is shown here for demonstration purposes only.\n",
        "adxfm_dict={}\n",
        "conndata_adapted={}\n",
        "for c in conndata:\n",
        "  adxfm_dict[c]=generate_adapt_transformer(input_data=conndata[c]['data'],\n",
        "                                           target_data=transformer_info_list[c],\n",
        "                                           adapt_mode='meanfit+meanshift')\n",
        "  conndata_adapted[c]={'data':adxfm_dict[c].transform(conndata[c]['data'])}"
      ],
      "metadata": {
        "colab": {
          "base_uri": "https://localhost:8080/"
        },
        "id": "m2QaFJHjJfBR",
        "outputId": "bbe146f5-4863-499b-fee4-da9d613e459b"
      },
      "execution_count": 6,
      "outputs": [
        {
          "output_type": "stream",
          "name": "stdout",
          "text": [
            "\tFitting input data mean to transformer mean: modeldata=inputdata*0.992 + -0.000\n",
            "\tFitting input data mean to transformer mean: modeldata=inputdata*1.008 + 0.000\n",
            "\tFitting input data mean to transformer mean: modeldata=inputdata*0.936 + 0.008\n",
            "\tFitting input data mean to transformer mean: modeldata=inputdata*0.935 + -0.001\n",
            "\tFitting input data mean to transformer mean: modeldata=inputdata*0.932 + 0.001\n"
          ]
        }
      ]
    },
    {
      "cell_type": "code",
      "source": [
        "# transform input data to krakencoder latent space\n",
        "encoded_data={}\n",
        "\n",
        "#loop through all of the input names from the saved checkpoint,\n",
        "# because the encoder/decoder indices are in this order.\n",
        "for encidx, c in enumerate(checkpoint_info['input_name_list']):\n",
        "  if not c in conndata_adapted:\n",
        "    #if this input type was not in the example data, skip it\n",
        "    continue\n",
        "  encoded_data[c]=net(conndata_adapted[c]['data'],encoder_index=encidx, decoder_index=-1)\n",
        "\n",
        "# compute average latent representation\n",
        "encoded_fusion=torch.mean(torch.stack([encoded_data[c] for c in encoded_data]),axis=0)\n",
        "\n",
        "print(\"fusion latent space representation: \", encoded_fusion.shape)\n",
        "\n",
        "# Now predict output connectomes from fusion latent representation\n",
        "# Predictions are stored in predicted_alltypes[inputtype][outputtype]\n",
        "predicted_alltypes={'fusion':{}}\n",
        "\n",
        "for decidx, c in enumerate(checkpoint_info['input_name_list']):\n",
        "    _,pred=net(encoded_fusion,encoder_index=-1, decoder_index=decidx)\n",
        "    predicted_alltypes['fusion'][c]=numpyvar(pred) #convert back to numpy for analysis\n",
        "    print(\"predicted_alltypes['fusion']['%s']: \" % (c), predicted_alltypes['fusion'][c].shape)\n",
        "\n",
        "#add fusion latent representation to output\n",
        "predicted_alltypes['fusion']['encoded']=numpyvar(encoded_fusion)\n",
        "print(\"predicted_alltypes['fusion']['%s']: \" % ('encoded'), predicted_alltypes['fusion']['encoded'].shape)\n"
      ],
      "metadata": {
        "colab": {
          "base_uri": "https://localhost:8080/"
        },
        "id": "_xvojiqeAPJf",
        "outputId": "cca73afa-b250-490f-c7f4-96cafefe48d3"
      },
      "execution_count": 7,
      "outputs": [
        {
          "output_type": "stream",
          "name": "stdout",
          "text": [
            "fusion latent space representation:  torch.Size([10, 128])\n",
            "predicted_alltypes['fusion']['SCifod2act_fs86_volnorm']:  (10, 3655)\n",
            "predicted_alltypes['fusion']['SCsdstream_fs86_volnorm']:  (10, 3655)\n",
            "predicted_alltypes['fusion']['FCcorr_fs86_hpf']:  (10, 3655)\n",
            "predicted_alltypes['fusion']['FCcorr_fs86_hpfgsr']:  (10, 3655)\n",
            "predicted_alltypes['fusion']['FCpcorr_fs86_hpf']:  (10, 3655)\n",
            "predicted_alltypes['fusion']['SCifod2act_shen268_volnorm']:  (10, 35778)\n",
            "predicted_alltypes['fusion']['SCsdstream_shen268_volnorm']:  (10, 35778)\n",
            "predicted_alltypes['fusion']['FCcorr_shen268_hpf']:  (10, 35778)\n",
            "predicted_alltypes['fusion']['FCcorr_shen268_hpfgsr']:  (10, 35778)\n",
            "predicted_alltypes['fusion']['FCpcorr_shen268_hpf']:  (10, 35778)\n",
            "predicted_alltypes['fusion']['SCifod2act_coco439_volnorm']:  (10, 96141)\n",
            "predicted_alltypes['fusion']['SCsdstream_coco439_volnorm']:  (10, 96141)\n",
            "predicted_alltypes['fusion']['FCcorr_coco439_hpf']:  (10, 96141)\n",
            "predicted_alltypes['fusion']['FCcorr_coco439_hpfgsr']:  (10, 96141)\n",
            "predicted_alltypes['fusion']['FCpcorr_coco439_hpf']:  (10, 96141)\n",
            "predicted_alltypes['fusion']['encoded']:  (10, 128)\n"
          ]
        }
      ]
    },
    {
      "cell_type": "code",
      "source": [
        "# save outputs to file for later analysis\n",
        "outfile='exampledata_outputs.mat'\n",
        "savemat(outfile, {'predicted_alltypes':predicted_alltypes}, format='5',do_compression=True)\n",
        "print(\"Saved %s (%s)\" % (outfile, humanize.naturalsize(os.path.getsize(outfile))))"
      ],
      "metadata": {
        "colab": {
          "base_uri": "https://localhost:8080/"
        },
        "id": "3aArUikSMfLc",
        "outputId": "114ac3e0-7683-4866-ab34-394d6c269140"
      },
      "execution_count": 8,
      "outputs": [
        {
          "output_type": "stream",
          "name": "stdout",
          "text": [
            "Saved exampledata_outputs.mat (23.1 MB)\n"
          ]
        }
      ]
    }
  ]
}